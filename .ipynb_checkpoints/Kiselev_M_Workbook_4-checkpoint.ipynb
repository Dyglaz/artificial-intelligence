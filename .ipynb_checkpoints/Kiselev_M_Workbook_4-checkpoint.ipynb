{
 "cells": [
  {
   "cell_type": "markdown",
   "id": "939048ac",
   "metadata": {},
   "source": [
    "# 1.1.1 Пример"
   ]
  },
  {
   "cell_type": "code",
   "execution_count": 73,
   "id": "c7f6a942",
   "metadata": {},
   "outputs": [
    {
     "name": "stdout",
     "output_type": "stream",
     "text": [
      "0.9999999999999999 -0.9499999999999995\n"
     ]
    },
    {
     "data": {
      "image/png": "[encoded data removed]",
      "text/plain": [
       "<Figure size 640x480 with 1 Axes>"
      ]
     },
     "metadata": {},
     "output_type": "display_data"
    }
   ],
   "source": [
    "import numpy as np\n",
    "import matplotlib.pyplot as plt\n",
    "\n",
    "x = np.array([0, 1, 2, 3])\n",
    "y = np.array([-1, 0.2, 0.9, 2.1])\n",
    "\n",
    "A = np.vstack([x, np.ones(len(x))]).T\n",
    "A\n",
    "\n",
    "m, c = np.linalg.lstsq(A, y, rcond = None)[0]\n",
    "print(m, c)\n",
    "\n",
    "plt.plot(x, y, 'o', label='Исходные данные', markersize=10)\n",
    "plt.plot(x, m*x + c, 'r', label='Линейная экстраполяция')\n",
    "plt.legend()\n",
    "plt.show()"
   ]
  },
  {
   "cell_type": "markdown",
   "id": "0fbed6f8",
   "metadata": {},
   "source": [
    "# 1.1.2 Пример"
   ]
  },
  {
   "cell_type": "code",
   "execution_count": 80,
   "id": "ec4387e7",
   "metadata": {},
   "outputs": [
    {
     "name": "stdout",
     "output_type": "stream",
     "text": [
      "[-4.52705945 -3.52740398 -2.51785297 -2.47552049 -1.47247192  0.3988601\n",
      "  0.5965969   1.50602525  3.29642654  3.83121505  5.04497923]\n",
      "[25.08523334 15.9935269   9.44768163  4.03474731  1.03372469 -0.11092805\n",
      "  0.50580037  4.47250237  9.34546575 15.97466245 25.16071218]\n"
     ]
    },
    {
     "ename": "LinAlgError",
     "evalue": "Incompatible dimensions",
     "output_type": "error",
     "traceback": [
      "\u001b[1;31m---------------------------------------------------------------------------\u001b[0m",
      "\u001b[1;31mLinAlgError\u001b[0m                               Traceback (most recent call last)",
      "Cell \u001b[1;32mIn[80], line 26\u001b[0m\n\u001b[0;32m     23\u001b[0m m \u001b[38;5;241m=\u001b[39m vstack((x\u001b[38;5;241m*\u001b[39m\u001b[38;5;241m*\u001b[39m\u001b[38;5;241m2\u001b[39m, x, ones(\u001b[38;5;241m11\u001b[39m)))\u001b[38;5;241m.\u001b[39mT\n\u001b[0;32m     25\u001b[0m \u001b[38;5;66;03m#находим коэффициенты при составляющих вектора т\u001b[39;00m\n\u001b[1;32m---> 26\u001b[0m s \u001b[38;5;241m=\u001b[39m \u001b[43mnp\u001b[49m\u001b[38;5;241;43m.\u001b[39;49m\u001b[43mlinalg\u001b[49m\u001b[38;5;241;43m.\u001b[39;49m\u001b[43mlstsq\u001b[49m\u001b[43m(\u001b[49m\u001b[43mm\u001b[49m\u001b[43m,\u001b[49m\u001b[43m \u001b[49m\u001b[43mу\u001b[49m\u001b[43m,\u001b[49m\u001b[43m \u001b[49m\u001b[43mrcond\u001b[49m\u001b[43m \u001b[49m\u001b[38;5;241;43m=\u001b[39;49m\u001b[43m \u001b[49m\u001b[38;5;28;43;01mNone\u001b[39;49;00m\u001b[43m)\u001b[49m[\u001b[38;5;241m0\u001b[39m]\n\u001b[0;32m     28\u001b[0m \u001b[38;5;66;03m#на отрезке [-5,5]\u001b[39;00m\n\u001b[0;32m     29\u001b[0m x_prec \u001b[38;5;241m=\u001b[39m linspace(\u001b[38;5;241m-\u001b[39m\u001b[38;5;241m5\u001b[39m, \u001b[38;5;241m5\u001b[39m, \u001b[38;5;241m101\u001b[39m)\n",
      "File \u001b[1;32m<__array_function__ internals>:200\u001b[0m, in \u001b[0;36mlstsq\u001b[1;34m(*args, **kwargs)\u001b[0m\n",
      "File \u001b[1;32m~\\AppData\\Local\\Programs\\Python\\Python311\\Lib\\site-packages\\numpy\\linalg\\linalg.py:2256\u001b[0m, in \u001b[0;36mlstsq\u001b[1;34m(a, b, rcond)\u001b[0m\n\u001b[0;32m   2254\u001b[0m m2, n_rhs \u001b[38;5;241m=\u001b[39m b\u001b[38;5;241m.\u001b[39mshape[\u001b[38;5;241m-\u001b[39m\u001b[38;5;241m2\u001b[39m:]\n\u001b[0;32m   2255\u001b[0m \u001b[38;5;28;01mif\u001b[39;00m m \u001b[38;5;241m!=\u001b[39m m2:\n\u001b[1;32m-> 2256\u001b[0m     \u001b[38;5;28;01mraise\u001b[39;00m LinAlgError(\u001b[38;5;124m'\u001b[39m\u001b[38;5;124mIncompatible dimensions\u001b[39m\u001b[38;5;124m'\u001b[39m)\n\u001b[0;32m   2258\u001b[0m t, result_t \u001b[38;5;241m=\u001b[39m _commonType(a, b)\n\u001b[0;32m   2259\u001b[0m result_real_t \u001b[38;5;241m=\u001b[39m _realType(result_t)\n",
      "\u001b[1;31mLinAlgError\u001b[0m: Incompatible dimensions"
     ]
    }
   ],
   "source": [
    "from numpy import *\n",
    "from numpy.random import *\n",
    "\n",
    "#Сгенерируем случайные x и у \n",
    "delta = 1.0\n",
    "x = linspace(-5,5,11)\n",
    "y = x**2+delta*(rand(11)-0.5) \n",
    "x += delta*(rand(11)-0.5)\n",
    "\n",
    "# записывае данные в файл\n",
    "x.tofile('x_data.txt', '\\n')\n",
    "y.tofile('y_data.txt', '\\n')\n",
    "\n",
    "# читаем данные из файлов\n",
    "x = fromfile('x_data.txt', float, sep='\\n')\n",
    "y = fromfile('y_data.txt', float, sep='\\n')\n",
    "\n",
    "print(x)\n",
    "print(y)\n",
    "\n",
    "#Нахождение коэффициентов функции вида у = ах^2 + Ьх + с методом наименьших квадратов\n",
    "#задаем вектор т = [х**2, х, Е]\n",
    "m = vstack((x**2, x, ones(11))).T\n",
    "\n",
    "#находим коэффициенты при составляющих вектора т\n",
    "s = np.linalg.lstsq(m, у, rcond = None)[0]\n",
    "\n",
    "#на отрезке [-5,5]\n",
    "x_prec = linspace(-5, 5, 101)\n",
    "\n",
    "#рисуем точки\n",
    "plt.plot(x, у, 'D')\n",
    "\n",
    "#рисуем кривую вида у = ахЛ2 + Ьх + с, подставляя из решения коэффициенты з[0], s[l]j s[2]\n",
    "plt.plot(x_prec, s[0] * x_prec**2 + s[1] * x_prec+s[2],'-', lw=2)\n",
    "plt.grid()\n",
    "plt.savefig('парабола.png')"
   ]
  },
  {
   "cell_type": "markdown",
   "id": "0bed9716",
   "metadata": {},
   "source": [
    "# 1.1.3 Пример"
   ]
  },
  {
   "cell_type": "code",
   "execution_count": 71,
   "id": "b2087f54",
   "metadata": {},
   "outputs": [
    {
     "ename": "LinAlgError",
     "evalue": "Incompatible dimensions",
     "output_type": "error",
     "traceback": [
      "\u001b[1;31m---------------------------------------------------------------------------\u001b[0m",
      "\u001b[1;31mLinAlgError\u001b[0m                               Traceback (most recent call last)",
      "Cell \u001b[1;32mIn[71], line 6\u001b[0m\n\u001b[0;32m      4\u001b[0m m \u001b[38;5;241m=\u001b[39m vstack((x\u001b[38;5;241m*\u001b[39m\u001b[38;5;241m*\u001b[39m\u001b[38;5;241m3\u001b[39m, x\u001b[38;5;241m*\u001b[39m\u001b[38;5;241m*\u001b[39m\u001b[38;5;241m2\u001b[39m, x, ones(\u001b[38;5;241m11\u001b[39m)))\u001b[38;5;241m.\u001b[39mT\n\u001b[0;32m      5\u001b[0m \u001b[38;5;66;03m#находим коэффициенты при составляющих вектора т\u001b[39;00m\n\u001b[1;32m----> 6\u001b[0m s \u001b[38;5;241m=\u001b[39m \u001b[43mnp\u001b[49m\u001b[38;5;241;43m.\u001b[39;49m\u001b[43mlinalg\u001b[49m\u001b[38;5;241;43m.\u001b[39;49m\u001b[43mlstsq\u001b[49m\u001b[43m(\u001b[49m\u001b[43mm\u001b[49m\u001b[43m,\u001b[49m\u001b[43m \u001b[49m\u001b[43mу\u001b[49m\u001b[43m,\u001b[49m\u001b[43m \u001b[49m\u001b[43mrcond\u001b[49m\u001b[43m \u001b[49m\u001b[38;5;241;43m=\u001b[39;49m\u001b[43m \u001b[49m\u001b[38;5;28;43;01mNone\u001b[39;49;00m\u001b[43m)\u001b[49m[\u001b[38;5;241m0\u001b[39m]\n\u001b[0;32m      8\u001b[0m \u001b[38;5;66;03m#на отрезке [-5,5]\u001b[39;00m\n\u001b[0;32m      9\u001b[0m x_prec \u001b[38;5;241m=\u001b[39m linspace(\u001b[38;5;241m-\u001b[39m\u001b[38;5;241m5\u001b[39m, \u001b[38;5;241m5\u001b[39m, \u001b[38;5;241m101\u001b[39m)\n",
      "File \u001b[1;32m<__array_function__ internals>:200\u001b[0m, in \u001b[0;36mlstsq\u001b[1;34m(*args, **kwargs)\u001b[0m\n",
      "File \u001b[1;32m~\\AppData\\Local\\Programs\\Python\\Python311\\Lib\\site-packages\\numpy\\linalg\\linalg.py:2256\u001b[0m, in \u001b[0;36mlstsq\u001b[1;34m(a, b, rcond)\u001b[0m\n\u001b[0;32m   2254\u001b[0m m2, n_rhs \u001b[38;5;241m=\u001b[39m b\u001b[38;5;241m.\u001b[39mshape[\u001b[38;5;241m-\u001b[39m\u001b[38;5;241m2\u001b[39m:]\n\u001b[0;32m   2255\u001b[0m \u001b[38;5;28;01mif\u001b[39;00m m \u001b[38;5;241m!=\u001b[39m m2:\n\u001b[1;32m-> 2256\u001b[0m     \u001b[38;5;28;01mraise\u001b[39;00m LinAlgError(\u001b[38;5;124m'\u001b[39m\u001b[38;5;124mIncompatible dimensions\u001b[39m\u001b[38;5;124m'\u001b[39m)\n\u001b[0;32m   2258\u001b[0m t, result_t \u001b[38;5;241m=\u001b[39m _commonType(a, b)\n\u001b[0;32m   2259\u001b[0m result_real_t \u001b[38;5;241m=\u001b[39m _realType(result_t)\n",
      "\u001b[1;31mLinAlgError\u001b[0m: Incompatible dimensions"
     ]
    }
   ],
   "source": [
    "#Решение\n",
    "#Нахождение коэффициентов функции вида у = ах^3 + bх^2 + сх + d методом наименьших квадратов\n",
    "#задаем вектор т = [x**3, х, Е]\n",
    "m = vstack((x**3, x**2, x, ones(11))).T\n",
    "#находим коэффициенты при составляющих вектора т\n",
    "s = np.linalg.lstsq(m, у, rcond = None)[0]\n",
    "\n",
    "#на отрезке [-5,5]\n",
    "x_prec = linspace(-5, 5, 101)\n",
    "#рисуем точки\n",
    "plt.plot(x, у, 'D')\n",
    "#рисуем кривую вида у = ах^3 + bx^2 + сх + d, подставляя из решения коэффициенты s[0], s[1], s[2], s[3]\n",
    "plt.plot(x_prec, s[0] * x_prec**3 + s[1] * x_prec**2 + s[2]*x_prec + s[3],'-', lw = 3)\n",
    "plt.grid()\n",
    "plt.savefig('полином 3-й степени.png')"
   ]
  },
  {
   "cell_type": "markdown",
   "id": "edca92bf",
   "metadata": {},
   "source": [
    "# 1.1.4 Пример"
   ]
  },
  {
   "cell_type": "code",
   "execution_count": 72,
   "id": "b475f8d0",
   "metadata": {},
   "outputs": [
    {
     "ename": "AttributeError",
     "evalue": "type object 'Spotify' has no attribute 'optimize'",
     "output_type": "error",
     "traceback": [
      "\u001b[1;31m---------------------------------------------------------------------------\u001b[0m",
      "\u001b[1;31mAttributeError\u001b[0m                            Traceback (most recent call last)",
      "Cell \u001b[1;32mIn[72], line 19\u001b[0m\n\u001b[0;32m     17\u001b[0m \u001b[38;5;66;03m#Используем функцию для получения решения в виде коэффициентов функции f(x) для указанных xdata и ydata\u001b[39;00m\n\u001b[0;32m     18\u001b[0m \u001b[38;5;28;01mfrom\u001b[39;00m \u001b[38;5;21;01mscipy\u001b[39;00m\u001b[38;5;21;01m.\u001b[39;00m\u001b[38;5;21;01moptimize\u001b[39;00m \u001b[38;5;28;01mimport\u001b[39;00m curve_fit\n\u001b[1;32m---> 19\u001b[0m beta_opt, beta_cov \u001b[38;5;241m=\u001b[39m \u001b[43msp\u001b[49m\u001b[38;5;241;43m.\u001b[39;49m\u001b[43moptimize\u001b[49m\u001b[38;5;241m.\u001b[39mcurve_fit(f, xdata, ydata) \n\u001b[0;32m     20\u001b[0m beta_opt\n\u001b[0;32m     22\u001b[0m \u001b[38;5;66;03m#Вычислим линейное отклонение\u001b[39;00m\n",
      "\u001b[1;31mAttributeError\u001b[0m: type object 'Spotify' has no attribute 'optimize'"
     ]
    }
   ],
   "source": [
    "from spotipy import Spotify as sp\n",
    "\n",
    "#Добавим шума в данные, сделанные по функции f(x,b) с коэффициентами b = (0.25, 0.75, 0.5) \n",
    "beta = (0.25, 0.75, 0.5)\n",
    "def f(x, b0, b1, b2):\n",
    "    return b0 + b1 * np.exp(-b2 * x**2)\n",
    "\n",
    "#зададим массив точек хi\n",
    "xdata = np.linspace(0, 5, 50)\n",
    "\n",
    "#создаем теоретически правильные значения точек yi (без шума)\n",
    "у = f(xdata, *beta)\n",
    "\n",
    "#зашумляем эти данные\n",
    "ydata = у + 0.05 * np.random.randn(len(xdata))\n",
    "\n",
    "#Используем функцию для получения решения в виде коэффициентов функции f(x) для указанных xdata и ydata\n",
    "from scipy.optimize import curve_fit\n",
    "beta_opt, beta_cov = sp.optimize.curve_fit(f, xdata, ydata) \n",
    "beta_opt\n",
    "\n",
    "#Вычислим линейное отклонение\n",
    "lin_dev = sum(beta_cov[0])\n",
    "print(lin_dev)\n",
    "\n",
    "#Вычислим квадратичное отклонение\n",
    "residuals = ydata - f(xdata,*beta_opt)\n",
    "fres = sum(residuals**2)\n",
    "print(fres)\n",
    "\n",
    "fig, ax = plt.subplots()\n",
    "ax.scatter(xdata, ydata)\n",
    "ax.plot(xdata, y, 'r', lw=2)\n",
    "ax.plot(xdata, f(xdata, *beta_opt), 'b', lw=2)\n",
    "ax.set_xlim(0, 5)\n",
    "ax.set_xlabel(r\"Sx$\", fontsize=18)\n",
    "ax.set_ylabel(r\"$f(x, \\beta)$\", fontsize=18)\n",
    "plt.show()"
   ]
  }
 ],
 "metadata": {
  "colab": {
   "provenance": []
  },
  "kernelspec": {
   "display_name": "Python 3 (ipykernel)",
   "language": "python",
   "name": "python3"
  },
  "language_info": {
   "codemirror_mode": {
    "name": "ipython",
    "version": 3
   },
   "file_extension": ".py",
   "mimetype": "text/x-python",
   "name": "python",
   "nbconvert_exporter": "python",
   "pygments_lexer": "ipython3",
   "version": "3.11.2"
  }
 },
 "nbformat": 4,
 "nbformat_minor": 5
}
